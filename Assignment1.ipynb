{
  "cells": [
    {
      "cell_type": "markdown",
      "metadata": {
        "id": "view-in-github",
        "colab_type": "text"
      },
      "source": [
        "<a href=\"https://colab.research.google.com/github/LongC24/UVM_CS254_HW/blob/main/Assignment1.ipynb\" target=\"_parent\"><img src=\"https://colab.research.google.com/assets/colab-badge.svg\" alt=\"Open In Colab\"/></a>"
      ]
    },
    {
      "cell_type": "markdown",
      "metadata": {
        "id": "mMBLNBHyv8pS"
      },
      "source": [
        "# Getting Python\n",
        "\n",
        "\n",
        "For this course, we are going to use Jupyter notebook as our environment for developing Python code.\n",
        "refer to https://jupyter.readthedocs.io/en/latest/content-quickstart.html for the instructions on how to install it. The easiest way is to install from Anaconda (https://www.anaconda.com/download/) website, make sure you install with Python 3.7 or above.\n",
        "\n",
        "Also, it is good for the students who are not familiar with python (or they need a quick refreshment) to follow Jim Bagrow tutorial http://bagrow.com/ds1/whirlwindtourpython/00-Title.html. \n",
        "\n",
        "All the assignments need to be written in Python 3.7 or above and can be run using Jupyter on Chrome, Safari or Firefox. These are the browsers that officially supported by jupyter.\n",
        "\n",
        "<u> Note: for this assignment, submit your local copy of this page, running on IPython.The extension of the file is .ipynb. Don't submit if it is not the extention of your file. Submit the file to Blackboard under Assignment1 using this file format:</u> <b>Yourfirstname_lastname_Assignment1.ipynb. Marks might be deducted if you do not follow the submission steps.</b> \n",
        "\n",
        "\n"
      ]
    },
    {
      "cell_type": "markdown",
      "metadata": {
        "id": "nu1D4tR9v8pY"
      },
      "source": [
        "# Assignment 1"
      ]
    },
    {
      "cell_type": "markdown",
      "metadata": {
        "id": "hByBNJ2Cv8pZ"
      },
      "source": [
        "##### Always import the needed libraries in the first cell as it is a good coding practice"
      ]
    },
    {
      "cell_type": "code",
      "execution_count": null,
      "metadata": {
        "id": "ZfJJt2tsv8pa"
      },
      "outputs": [],
      "source": [
        "import numpy as np \n",
        "import matplotlib.pyplot as plt\n",
        "import pandas as pd"
      ]
    },
    {
      "cell_type": "markdown",
      "metadata": {
        "id": "zb_16w0Av8pb"
      },
      "source": [
        "# Assignment 1 -- Part 1"
      ]
    },
    {
      "cell_type": "markdown",
      "metadata": {
        "id": "f0EMCF8rv8pc"
      },
      "source": [
        "### Part 1, Q1  --  [8 pts]\n",
        "\n",
        "1. Use the np.linspace function to create a row vector called Points containing exactly 499 values with values evenly spaced between -1 and 1.\n",
        "\n",
        "2. What is the value at index 53?"
      ]
    },
    {
      "cell_type": "code",
      "execution_count": null,
      "metadata": {
        "id": "IMMAtBfAv8pc"
      },
      "outputs": [],
      "source": [
        "#Your code here\n",
        "\n"
      ]
    },
    {
      "cell_type": "markdown",
      "metadata": {
        "id": "-BMws3yqv8pd"
      },
      "source": [
        "### Part 1, Q2  --  [8 pts]\n",
        "\n",
        "For a given array x of 3x3 dimensions, convert this array into a one-dimensional array.\n",
        "\n",
        "Hint 1 :  The output should be [1 2 3 4 5 6 7 8 9].\n",
        "\n",
        "Hint 2: To get the dimension of an array, we use shape property. The dimension of the resulted array should be 1x9.\n"
      ]
    },
    {
      "cell_type": "code",
      "execution_count": null,
      "metadata": {
        "colab": {
          "base_uri": "https://localhost:8080/"
        },
        "id": "pxh7aR_ev8pe",
        "outputId": "7688e128-fb87-4fbc-fbf7-96e7e3878e5d"
      },
      "outputs": [
        {
          "output_type": "stream",
          "name": "stdout",
          "text": [
            "(3, 3)\n"
          ]
        }
      ],
      "source": [
        "x = np.array([[1, 2, 3], [4, 5, 6],[7, 8, 9]])\n",
        "print(x.shape)\n",
        "\n",
        "#Your code here\n"
      ]
    },
    {
      "cell_type": "markdown",
      "metadata": {
        "id": "afD1PQ_pv8pf"
      },
      "source": [
        "### Part 1, Q3  --  [8 pts]\n",
        "\n",
        "Create an 10 x 10 array of zeros and then \"frame\" it with a border of ones(The framed array's size should be 10x10)."
      ]
    },
    {
      "cell_type": "code",
      "execution_count": null,
      "metadata": {
        "id": "e6ufkxIVv8pg"
      },
      "outputs": [],
      "source": [
        "#Your code here\n",
        "\n"
      ]
    },
    {
      "cell_type": "markdown",
      "metadata": {
        "id": "HUh2tDD4v8pg"
      },
      "source": [
        "### Part 1, Q4  --  [8 pts]\n",
        "\n",
        "\n",
        "Create an 8 x 8 array with a checkerboard pattern of zeros and ones using for loop or vstack.\n",
        "The expected output is given below:\n",
        "      <h4> [[1, 0, 1, 0, 1, 0, 1, 0],</h4>\n",
        "      <h4> [0, 1, 0, 1, 0, 1, 0, 1], </h4>\n",
        "      <h4> [1, 0, 1, 0, 1, 0, 1, 0], </h4>\n",
        "      <h4> [0, 1, 0, 1, 0, 1, 0, 1], </h4>\n",
        "      <h4> [1, 0, 1, 0, 1, 0, 1, 0], </h4>\n",
        "      <h4> [0, 1, 0, 1, 0, 1, 0, 1], </h4>\n",
        "      <h4> [1, 0, 1, 0, 1, 0, 1, 0], </h4>\n",
        "      <h4> [0, 1, 0, 1, 0, 1, 0, 1]] </h4>\n",
        "      \n",
        "      "
      ]
    },
    {
      "cell_type": "code",
      "execution_count": null,
      "metadata": {
        "id": "LeRLKo5iv8ph"
      },
      "outputs": [],
      "source": [
        "#Your code here\n",
        "\n"
      ]
    },
    {
      "cell_type": "markdown",
      "metadata": {
        "id": "i1FgOsmMv8ph"
      },
      "source": [
        "### Part 1, Q5  --  [8 pts]\n",
        "\n",
        "Create a function which creates an n×n array with the value of (i,j)-entry equal to i+j.Here i is the index of row and j is the index of column. For example, if the index of i is 2 and the index of j is 5, then, the value of i+j will be 7."
      ]
    },
    {
      "cell_type": "code",
      "execution_count": null,
      "metadata": {
        "id": "k_Gwczknv8pi"
      },
      "outputs": [],
      "source": [
        "#Your code here\n"
      ]
    },
    {
      "cell_type": "markdown",
      "metadata": {
        "id": "hnOOZKiTv8pi"
      },
      "source": [
        "### Part 1, Q6  --  [8 pts]\n",
        "\n",
        "\n",
        "Define a matrix(2D array) of 100x100 and initialize this matrix by its row index. After that, define a vector(1D array) of length 100 and initialize this vector by the index of the element.\n",
        "\n",
        "Now, Use the dot function on a vector-vector, matrix-vector and matrix-matrix example. you can define your own dot function or use any build in functions. Dot function should peform dot product of two arrays (in this case between 2D and 1D array).\n",
        "\n",
        "Hint: One way of doing this is to use np.dot() function.\n",
        "You can have a look at this link: https://docs.scipy.org/doc/numpy/reference/generated/numpy.dot.html"
      ]
    },
    {
      "cell_type": "code",
      "execution_count": null,
      "metadata": {
        "id": "ei2hCOYNv8pj"
      },
      "outputs": [],
      "source": [
        "#Your code here\n"
      ]
    },
    {
      "cell_type": "markdown",
      "metadata": {
        "id": "Hkf0Oa3fv8pj"
      },
      "source": [
        "### Part 1, Q7  --  [8 pts]\n",
        "\n",
        " For a given random 3x5 array using the np.random.randint() function,\n",
        " compute (without using for loop): the sum of all the entries, the sum of the rows and the sum of the columns. "
      ]
    },
    {
      "cell_type": "code",
      "execution_count": null,
      "metadata": {
        "id": "MNY89aVnv8pk"
      },
      "outputs": [],
      "source": [
        "arr = np.random.randint(50, size=(3, 5))\n",
        "\n",
        "# Your code here\n"
      ]
    },
    {
      "cell_type": "markdown",
      "metadata": {
        "id": "nqICiuCmv8pk"
      },
      "source": [
        "### Part 1, Q8  --  [8 pts]\n",
        "In this question, a 5x5 array has been created using np.random.randint(). The goal is to sort(ascending) all the rows using the second column. To be more precise,to sort the rows, we will use the values from column 2.\n",
        "Lets say you have an array like below:\n",
        "\n",
        "[[46 36 40 40 25]\n",
        "\n",
        " [43  3 17 23  4]\n",
        " \n",
        " [43 39  7  9  4]\n",
        " \n",
        " After the sorting, you will have output like below:\n",
        " \n",
        " [43  3 17 23  4]\n",
        " \n",
        " [46 36 40 40 25]\n",
        " \n",
        " [43 39  7  9  4]\n",
        " \n",
        "\n",
        "Hint: You can use argsort function. It is just a way. You can follow other way if you want."
      ]
    },
    {
      "cell_type": "code",
      "execution_count": null,
      "metadata": {
        "id": "yymlivggv8pk",
        "colab": {
          "base_uri": "https://localhost:8080/"
        },
        "outputId": "6956ba58-3e11-40b5-af58-26c74f0de8e4"
      },
      "outputs": [
        {
          "output_type": "stream",
          "name": "stdout",
          "text": [
            "Unsorted:\n",
            "[[ 1 47 28  8 15]\n",
            " [45  7  2 22 34]\n",
            " [30 11 31 11 43]\n",
            " [31  2 41 33 45]\n",
            " [44 41 34 14 45]]\n",
            "\n",
            "Rows sorted by the second column:\n",
            "[[ 1 47 28  8 15]\n",
            " [45  7  2 22 34]\n",
            " [30 11 31 11 43]\n",
            " [31  2 41 33 45]\n",
            " [44 41 34 14 45]]\n"
          ]
        }
      ],
      "source": [
        "x = np.random.randint(50, size=(5, 5))\n",
        "\n",
        "print('Unsorted:\\n{}\\n'.format(x))\n",
        "#Your code here\n",
        "\n",
        "\n",
        "#--------------------\n",
        "print('Rows sorted by the second column:\\n{}'.format(x))"
      ]
    },
    {
      "cell_type": "markdown",
      "metadata": {
        "id": "zQx2MgwRv8pl"
      },
      "source": [
        "# Assignment 1 -- Part 2\n",
        "For part 2, you will be using the Breast Cancer Wisconsin (Diagnostic) Database to create a classifier that can help diagnose patients. First, read through the description of the dataset (below)."
      ]
    },
    {
      "cell_type": "code",
      "execution_count": null,
      "metadata": {
        "id": "i4M_j_wdv8pl"
      },
      "outputs": [],
      "source": [
        "from sklearn.datasets import load_breast_cancer"
      ]
    },
    {
      "cell_type": "markdown",
      "metadata": {
        "id": "huklDsiiv8pm"
      },
      "source": [
        "The object returned by load_breast_cancer() is a scikit-learn Bunch object, which is similar to a dictionary, for information about dictionary refer to http://bagrow.com/ds1/whirlwindtourpython/07-Built-in-Data-Structures.html"
      ]
    },
    {
      "cell_type": "code",
      "execution_count": null,
      "metadata": {
        "id": "xWzf_cmiv8pm",
        "colab": {
          "base_uri": "https://localhost:8080/"
        },
        "outputId": "a6f5391f-f207-472a-ca3d-976070a26509"
      },
      "outputs": [
        {
          "output_type": "execute_result",
          "data": {
            "text/plain": [
              "dict_keys(['data', 'target', 'frame', 'target_names', 'DESCR', 'feature_names', 'filename', 'data_module'])"
            ]
          },
          "metadata": {},
          "execution_count": 14
        }
      ],
      "source": [
        "cancer = load_breast_cancer()\n",
        "cancer.keys()"
      ]
    },
    {
      "cell_type": "code",
      "execution_count": null,
      "metadata": {
        "id": "ZDWr7f7Yv8pm",
        "colab": {
          "base_uri": "https://localhost:8080/"
        },
        "outputId": "a447893e-edd2-46b1-b324-a6cca5bfb01a"
      },
      "outputs": [
        {
          "output_type": "execute_result",
          "data": {
            "text/plain": [
              "array([[1.799e+01, 1.038e+01, 1.228e+02, ..., 2.654e-01, 4.601e-01,\n",
              "        1.189e-01],\n",
              "       [2.057e+01, 1.777e+01, 1.329e+02, ..., 1.860e-01, 2.750e-01,\n",
              "        8.902e-02],\n",
              "       [1.969e+01, 2.125e+01, 1.300e+02, ..., 2.430e-01, 3.613e-01,\n",
              "        8.758e-02],\n",
              "       ...,\n",
              "       [1.660e+01, 2.808e+01, 1.083e+02, ..., 1.418e-01, 2.218e-01,\n",
              "        7.820e-02],\n",
              "       [2.060e+01, 2.933e+01, 1.401e+02, ..., 2.650e-01, 4.087e-01,\n",
              "        1.240e-01],\n",
              "       [7.760e+00, 2.454e+01, 4.792e+01, ..., 0.000e+00, 2.871e-01,\n",
              "        7.039e-02]])"
            ]
          },
          "metadata": {},
          "execution_count": 15
        }
      ],
      "source": [
        "cancer['data']"
      ]
    },
    {
      "cell_type": "code",
      "execution_count": null,
      "metadata": {
        "id": "wKfRLmfuv8pm",
        "colab": {
          "base_uri": "https://localhost:8080/"
        },
        "outputId": "4f8c4199-ebe9-4045-fa6e-91e07e95f6b3"
      },
      "outputs": [
        {
          "output_type": "execute_result",
          "data": {
            "text/plain": [
              "array(['malignant', 'benign'], dtype='<U9')"
            ]
          },
          "metadata": {},
          "execution_count": 16
        }
      ],
      "source": [
        "cancer['target_names']"
      ]
    },
    {
      "cell_type": "code",
      "execution_count": null,
      "metadata": {
        "id": "CYzz61ZSv8pm",
        "colab": {
          "base_uri": "https://localhost:8080/"
        },
        "outputId": "2b2be578-a982-4821-90e3-062f96fc1e89"
      },
      "outputs": [
        {
          "output_type": "execute_result",
          "data": {
            "text/plain": [
              "array(['mean radius', 'mean texture', 'mean perimeter', 'mean area',\n",
              "       'mean smoothness', 'mean compactness', 'mean concavity',\n",
              "       'mean concave points', 'mean symmetry', 'mean fractal dimension',\n",
              "       'radius error', 'texture error', 'perimeter error', 'area error',\n",
              "       'smoothness error', 'compactness error', 'concavity error',\n",
              "       'concave points error', 'symmetry error',\n",
              "       'fractal dimension error', 'worst radius', 'worst texture',\n",
              "       'worst perimeter', 'worst area', 'worst smoothness',\n",
              "       'worst compactness', 'worst concavity', 'worst concave points',\n",
              "       'worst symmetry', 'worst fractal dimension'], dtype='<U23')"
            ]
          },
          "metadata": {},
          "execution_count": 17
        }
      ],
      "source": [
        "cancer['feature_names']"
      ]
    },
    {
      "cell_type": "code",
      "execution_count": null,
      "metadata": {
        "id": "0MNIyZizv8pn",
        "colab": {
          "base_uri": "https://localhost:8080/"
        },
        "outputId": "c22f03fd-4398-4edf-fc61-ddfedcf9f9ba"
      },
      "outputs": [
        {
          "output_type": "execute_result",
          "data": {
            "text/plain": [
              "array([0, 0, 0, 0, 0, 0, 0, 0, 0, 0, 0, 0, 0, 0, 0, 0, 0, 0, 0, 1, 1, 1,\n",
              "       0, 0, 0, 0, 0, 0, 0, 0, 0, 0, 0, 0, 0, 0, 0, 1, 0, 0, 0, 0, 0, 0,\n",
              "       0, 0, 1, 0, 1, 1, 1, 1, 1, 0, 0, 1, 0, 0, 1, 1, 1, 1, 0, 1, 0, 0,\n",
              "       1, 1, 1, 1, 0, 1, 0, 0, 1, 0, 1, 0, 0, 1, 1, 1, 0, 0, 1, 0, 0, 0,\n",
              "       1, 1, 1, 0, 1, 1, 0, 0, 1, 1, 1, 0, 0, 1, 1, 1, 1, 0, 1, 1, 0, 1,\n",
              "       1, 1, 1, 1, 1, 1, 1, 0, 0, 0, 1, 0, 0, 1, 1, 1, 0, 0, 1, 0, 1, 0,\n",
              "       0, 1, 0, 0, 1, 1, 0, 1, 1, 0, 1, 1, 1, 1, 0, 1, 1, 1, 1, 1, 1, 1,\n",
              "       1, 1, 0, 1, 1, 1, 1, 0, 0, 1, 0, 1, 1, 0, 0, 1, 1, 0, 0, 1, 1, 1,\n",
              "       1, 0, 1, 1, 0, 0, 0, 1, 0, 1, 0, 1, 1, 1, 0, 1, 1, 0, 0, 1, 0, 0,\n",
              "       0, 0, 1, 0, 0, 0, 1, 0, 1, 0, 1, 1, 0, 1, 0, 0, 0, 0, 1, 1, 0, 0,\n",
              "       1, 1, 1, 0, 1, 1, 1, 1, 1, 0, 0, 1, 1, 0, 1, 1, 0, 0, 1, 0, 1, 1,\n",
              "       1, 1, 0, 1, 1, 1, 1, 1, 0, 1, 0, 0, 0, 0, 0, 0, 0, 0, 0, 0, 0, 0,\n",
              "       0, 0, 1, 1, 1, 1, 1, 1, 0, 1, 0, 1, 1, 0, 1, 1, 0, 1, 0, 0, 1, 1,\n",
              "       1, 1, 1, 1, 1, 1, 1, 1, 1, 1, 1, 0, 1, 1, 0, 1, 0, 1, 1, 1, 1, 1,\n",
              "       1, 1, 1, 1, 1, 1, 1, 1, 1, 0, 1, 1, 1, 0, 1, 0, 1, 1, 1, 1, 0, 0,\n",
              "       0, 1, 1, 1, 1, 0, 1, 0, 1, 0, 1, 1, 1, 0, 1, 1, 1, 1, 1, 1, 1, 0,\n",
              "       0, 0, 1, 1, 1, 1, 1, 1, 1, 1, 1, 1, 1, 0, 0, 1, 0, 0, 0, 1, 0, 0,\n",
              "       1, 1, 1, 1, 1, 0, 1, 1, 1, 1, 1, 0, 1, 1, 1, 0, 1, 1, 0, 0, 1, 1,\n",
              "       1, 1, 1, 1, 0, 1, 1, 1, 1, 1, 1, 1, 0, 1, 1, 1, 1, 1, 0, 1, 1, 0,\n",
              "       1, 1, 1, 1, 1, 1, 1, 1, 1, 1, 1, 1, 0, 1, 0, 0, 1, 0, 1, 1, 1, 1,\n",
              "       1, 0, 1, 1, 0, 1, 0, 1, 1, 0, 1, 0, 1, 1, 1, 1, 1, 1, 1, 1, 0, 0,\n",
              "       1, 1, 1, 1, 1, 1, 0, 1, 1, 1, 1, 1, 1, 1, 1, 1, 1, 0, 1, 1, 1, 1,\n",
              "       1, 1, 1, 0, 1, 0, 1, 1, 0, 1, 1, 1, 1, 1, 0, 0, 1, 0, 1, 0, 1, 1,\n",
              "       1, 1, 1, 0, 1, 1, 0, 1, 0, 1, 0, 0, 1, 1, 1, 0, 1, 1, 1, 1, 1, 1,\n",
              "       1, 1, 1, 1, 1, 0, 1, 0, 0, 1, 1, 1, 1, 1, 1, 1, 1, 1, 1, 1, 1, 1,\n",
              "       1, 1, 1, 1, 1, 1, 1, 1, 1, 1, 1, 1, 0, 0, 0, 0, 0, 0, 1])"
            ]
          },
          "metadata": {},
          "execution_count": 18
        }
      ],
      "source": [
        "cancer['target']"
      ]
    },
    {
      "cell_type": "markdown",
      "metadata": {
        "id": "YjJaCM55v8pn"
      },
      "source": [
        "### Part 2, Q1  --  [8 pts]\n",
        "How many features does the breast cancer dataset have? \n",
        "Hint :This function should return an integer."
      ]
    },
    {
      "cell_type": "code",
      "execution_count": null,
      "metadata": {
        "id": "qUN4Pwf2v8pn"
      },
      "outputs": [],
      "source": [
        "#Your code here\n"
      ]
    },
    {
      "cell_type": "markdown",
      "metadata": {
        "id": "054Wmao3v8pn"
      },
      "source": [
        "### Part 2, Q2  --  [7 pts]\n",
        "\n",
        "Scikit-learn is machine learning library for the Python programming language. It uses dataframe as a primary data container just like excel uses csv. hence, you need to convert the sklearn.dataset to DataFrame.\n",
        "\n",
        "Convert the sklearn.dataset cancer to a DataFrame.\n",
        "\n",
        "Hint: This function should return a (569, 31) DataFrame with\n",
        "columns =\n",
        "\n",
        "['mean radius', 'mean texture', 'mean perimeter', 'mean area',\n",
        "'mean smoothness', 'mean compactness', 'mean concavity',\n",
        "'mean concave points', 'mean symmetry', 'mean fractal dimension',\n",
        "'radius error', 'texture error', 'perimeter error', 'area error',\n",
        "'smoothness error', 'compactness error', 'concavity error',\n",
        "'concave points error', 'symmetry error', 'fractal dimension error',\n",
        "'worst radius', 'worst texture', 'worst perimeter', 'worst area',\n",
        "'worst smoothness', 'worst compactness', 'worst concavity',\n",
        "'worst concave points', 'worst symmetry', 'worst fractal dimension',\n",
        "'target']"
      ]
    },
    {
      "cell_type": "code",
      "execution_count": null,
      "metadata": {
        "id": "ImiQWynCv8po"
      },
      "outputs": [],
      "source": [
        "#Your code here\n"
      ]
    },
    {
      "cell_type": "markdown",
      "metadata": {
        "id": "Ml8svJ8Zv8po"
      },
      "source": [
        "### Part 2, Q3  --  [7 pts]\n",
        "\n",
        "What is the class distribution? (i.e. how many instances of malignant (encoded 0) and how many benign (encoded 1)?)\n",
        "This function should return a Series of length 2 with integer values and index = ['malignant', 'benign']"
      ]
    },
    {
      "cell_type": "code",
      "execution_count": null,
      "metadata": {
        "id": "st4TtSYwv8po"
      },
      "outputs": [],
      "source": [
        "#Your code here\n",
        "\n"
      ]
    },
    {
      "cell_type": "markdown",
      "metadata": {
        "id": "IzC396XLv8po"
      },
      "source": [
        "### Part 2, Q4  --  [7 pts]\n",
        "\n",
        "Split the DataFrame into X (the data) and y (the labels).\n",
        "\n",
        "This function should return a tuple of length 2: (X, y), where\n",
        "\n",
        "- X has shape (569, 30)\n",
        "- y has shape (569,).\n",
        "\n",
        "for more information about tuple refer to http://bagrow.com/ds1/whirlwindtourpython/07-Built-in-Data-Structures.html"
      ]
    },
    {
      "cell_type": "code",
      "execution_count": null,
      "metadata": {
        "id": "IPWZoecdv8pp"
      },
      "outputs": [],
      "source": [
        "#Your code here\n",
        "\n"
      ]
    },
    {
      "cell_type": "markdown",
      "metadata": {
        "id": "kABs5aNiv8pp"
      },
      "source": [
        "### Part 2, Q5  --  [7 pts]\n",
        "Plot the histogram of 'malignant' and 'benign'.\n",
        "\n",
        "Histogram is way to show the frequency of a set of continuous data. In this case, there are 2 labels ('malignant' and 'benign').The name of the labels will be in the x-axis and the frequency count of those labels will be in the y-axis.\n",
        "\n",
        "You can find more about Histogram here:\n",
        "\n",
        "https://statistics.laerd.com/statistical-guides/understanding-histograms.php"
      ]
    },
    {
      "cell_type": "code",
      "execution_count": null,
      "metadata": {
        "id": "A0yFqDWbv8pp"
      },
      "outputs": [],
      "source": [
        "#Your code here\n",
        "\n"
      ]
    }
  ],
  "metadata": {
    "kernelspec": {
      "display_name": "Python 3",
      "language": "python",
      "name": "python3"
    },
    "language_info": {
      "codemirror_mode": {
        "name": "ipython",
        "version": 3
      },
      "file_extension": ".py",
      "mimetype": "text/x-python",
      "name": "python",
      "nbconvert_exporter": "python",
      "pygments_lexer": "ipython3",
      "version": "3.7.6"
    },
    "colab": {
      "name": "Assignment1.ipynb",
      "provenance": [],
      "include_colab_link": true
    }
  },
  "nbformat": 4,
  "nbformat_minor": 0
}