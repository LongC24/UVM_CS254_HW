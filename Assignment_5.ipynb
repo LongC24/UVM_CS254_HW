{
  "cells": [
    {
      "cell_type": "markdown",
      "metadata": {
        "id": "view-in-github",
        "colab_type": "text"
      },
      "source": [
        "<a href=\"https://colab.research.google.com/github/LongC24/UVM_CS254_HW/blob/main/Lichao_Yang_Assignment_5.ipynb\" target=\"_parent\"><img src=\"https://colab.research.google.com/assets/colab-badge.svg\" alt=\"Open In Colab\"/></a>"
      ]
    },
    {
      "cell_type": "markdown",
      "metadata": {
        "id": "hejpSUADqhkg"
      },
      "source": [
        "# Assignment 5\n"
      ]
    },
    {
      "cell_type": "markdown",
      "metadata": {
        "id": "M_HhJ_Q0qhkk"
      },
      "source": [
        "In this assignment you are asked to build decision tree and random forest classifiers on the popular MNIST dataset. You will use the built-in functions in sklearn else you asked otherwise.  "
      ]
    },
    {
      "cell_type": "code",
      "execution_count": 1,
      "metadata": {
        "id": "oXSjwFLGqhkk"
      },
      "outputs": [],
      "source": [
        "# load needed libraries.\n",
        "import numpy as np\n",
        "import pandas as pd\n",
        "import matplotlib.pyplot as plt\n",
        "\n",
        "# sklearn utilities\n",
        "from sklearn import datasets\n",
        "from sklearn.model_selection import train_test_split\n",
        "from sklearn.metrics import confusion_matrix, classification_report\n",
        "\n",
        "# sklearn models\n",
        "from sklearn.tree import DecisionTreeClassifier\n",
        "from sklearn.ensemble import RandomForestClassifier"
      ]
    },
    {
      "cell_type": "markdown",
      "metadata": {
        "id": "NU6MIhYTqhkm"
      },
      "source": [
        "## Part 0: Prepare the data"
      ]
    },
    {
      "cell_type": "markdown",
      "metadata": {
        "id": "VP6I4h6Jqhkm"
      },
      "source": [
        "#### Q1) SKLearn's load_digits()\n",
        "- Use load_digits from sklearn to load the dataset. \n",
        "- You will be using this data for the entire assignment"
      ]
    },
    {
      "cell_type": "code",
      "execution_count": 2,
      "metadata": {
        "id": "UgntLs7mqhkn"
      },
      "outputs": [],
      "source": [
        "datadigits = datasets.load_digits()"
      ]
    },
    {
      "cell_type": "code",
      "execution_count": 3,
      "metadata": {
        "colab": {
          "base_uri": "https://localhost:8080/",
          "height": 168
        },
        "id": "cBWaTIpnqhkn",
        "outputId": "f335d755-c3fc-4de6-c208-c1f67fc69532"
      },
      "outputs": [
        {
          "output_type": "display_data",
          "data": {
            "image/png": "[encoded data removed]",
            "text/plain": [
              "<Figure size 720x216 with 4 Axes>"
            ]
          },
          "metadata": {
            "needs_background": "light"
          }
        }
      ],
      "source": [
        "# test function for your load data load.  \n",
        "_, axes = plt.subplots(nrows=1, ncols=4, figsize=(10, 3))\n",
        "for ax, image, label in zip(axes, datadigits.images, datadigits.target):\n",
        "    ax.set_axis_off()\n",
        "    ax.imshow(image, cmap=plt.cm.gray_r, interpolation=\"nearest\")\n",
        "    ax.set_title(\"Training: %i\" % label)"
      ]
    },
    {
      "cell_type": "markdown",
      "metadata": {
        "id": "c7QBjoYsqhkp"
      },
      "source": [
        "#### Q2) Train test split\n",
        "- We need to split our data into two groups in order to validate model performance and generalization ability \n",
        "- Use the sklearn train_test_split function to obtain training data and testing data\n",
        "- Important: you must use a test size of 0.25 and a random_state of 0"
      ]
    },
    {
      "cell_type": "code",
      "execution_count": 4,
      "metadata": {
        "id": "SCV5NjI6qhkq"
      },
      "outputs": [],
      "source": [
        "x_train, x_test, y_train, y_test = train_test_split(datadigits.data, datadigits.target, test_size=0.25, random_state=0)\n"
      ]
    },
    {
      "cell_type": "code",
      "execution_count": 5,
      "metadata": {
        "colab": {
          "base_uri": "https://localhost:8080/"
        },
        "id": "wjXQcEHbqhkq",
        "outputId": "40d1ad1e-2df1-4651-ffef-689057ac42ad"
      },
      "outputs": [
        {
          "output_type": "stream",
          "name": "stdout",
          "text": [
            "Training x: (1347, 64) y: (1347,)\n",
            "Testing x: (450, 64) y: (450,)\n"
          ]
        }
      ],
      "source": [
        "# Test function for your data split. It should match this cell outputs.\n",
        "print(\"Training x:\", x_train.shape,\"y:\", y_train.shape)\n",
        "print(\"Testing x:\", x_test.shape,\"y:\", y_test.shape)"
      ]
    },
    {
      "cell_type": "markdown",
      "metadata": {
        "id": "HmpeGLZSqhkr"
      },
      "source": [
        "## Part 1: Trees"
      ]
    },
    {
      "cell_type": "markdown",
      "metadata": {
        "id": "4LnJD6Plqhkr"
      },
      "source": [
        "#### Q3) Build an decision tree classifier\n",
        "- Create a DecisionTreeClassifier object using sklearn. set random_state=0.\n",
        "- Call the .fit() function to train your model\n",
        "- Call the .score() function to assess model accuracy\n",
        "- Print your accuracy."
      ]
    },
    {
      "cell_type": "code",
      "execution_count": 6,
      "metadata": {
        "colab": {
          "base_uri": "https://localhost:8080/"
        },
        "id": "_gyKw5TUqhks",
        "outputId": "dee18557-6a3d-4675-c67e-5956b5f07865"
      },
      "outputs": [
        {
          "output_type": "stream",
          "name": "stdout",
          "text": [
            "accuracy:  0.86\n"
          ]
        }
      ],
      "source": [
        "# The output should be ~ 0.8377\n",
        "clf = DecisionTreeClassifier()\n",
        "clf.fit(x_train, y_train)\n",
        "print(\"accuracy: \", clf.score(x_test, y_test))"
      ]
    },
    {
      "cell_type": "markdown",
      "metadata": {
        "id": "34JO-k7vqhks"
      },
      "source": [
        "#### Q4) Search for max_features\n",
        "- Create a for loop iterating though all possible values for the hyperparameter max_features\n",
        "- Create a tree with max_features = i for each value within your loop\n",
        "- Fit and score each tree\n",
        "- Save these scores to some list structure."
      ]
    },
    {
      "cell_type": "code",
      "execution_count": 7,
      "metadata": {
        "id": "U8gfP0ylqhkt"
      },
      "outputs": [],
      "source": [
        "scores = []\n",
        "for i in range(1, x_train.shape[1]):\n",
        "  clf_maxFeature = DecisionTreeClassifier(max_features=i)\n",
        "  clf_maxFeature.fit(x_train, y_train)\n",
        "  scores.append(clf_maxFeature.score(x_test, y_test))"
      ]
    },
    {
      "cell_type": "markdown",
      "metadata": {
        "id": "vuuQokqEqhkt"
      },
      "source": [
        "#### Q5) Plot of scores\n",
        "- Create a graph plotting y=scores from the above question( Use any visualization that you think makes sense)\n",
        "- Briefly explain max_features in the context of your graph"
      ]
    },
    {
      "cell_type": "code",
      "execution_count": 8,
      "metadata": {
        "colab": {
          "base_uri": "https://localhost:8080/",
          "height": 265
        },
        "id": "InrT9ohJqhku",
        "outputId": "33d68336-bccb-4384-f738-b5bafe2e6211"
      },
      "outputs": [
        {
          "output_type": "display_data",
          "data": {
            "image/png": "[encoded data removed]",
            "text/plain": [
              "<Figure size 432x288 with 1 Axes>"
            ]
          },
          "metadata": {
            "needs_background": "light"
          }
        }
      ],
      "source": [
        "# it should look like the grpah below.\n",
        "\n",
        "plt.plot(np.arange(1, x_train.shape[1], dtype=int), scores)\n",
        "\n",
        "plt.show()"
      ]
    },
    {
      "cell_type": "markdown",
      "metadata": {
        "id": "u3ipFeOyqhku"
      },
      "source": [
        "## Part 2: Forests"
      ]
    },
    {
      "cell_type": "markdown",
      "metadata": {
        "id": "nZUe01enqhku"
      },
      "source": [
        "#### Q6) Build an random forest classification model\n",
        "- Create a RandomForestClassifier object\n",
        "- Call the .fit() function to train your model\n",
        "- Call the .score() function to assess model accuracy\n",
        "- Print your accuracy"
      ]
    },
    {
      "cell_type": "code",
      "execution_count": 9,
      "metadata": {
        "colab": {
          "base_uri": "https://localhost:8080/"
        },
        "id": "X8HscwZ4qhku",
        "outputId": "7cf42108-eb55-47e1-981f-333b9b7089b8"
      },
      "outputs": [
        {
          "output_type": "stream",
          "name": "stdout",
          "text": [
            "Accuracy:  0.9777777777777777\n"
          ]
        }
      ],
      "source": [
        "# add your code here.\n",
        "clf_rf = RandomForestClassifier()\n",
        "clf_rf.fit(x_train, y_train)\n",
        "print(\"Accuracy: \", clf_rf.score( x_test, y_test))"
      ]
    },
    {
      "cell_type": "markdown",
      "metadata": {
        "id": "GM1oZzLRqhkv"
      },
      "source": [
        "#### Q7) The n_estimators hyperparameter\n",
        "- Write a for loop to iterate through many different sizes of trees (using the n_estimators hyperparameter).\n",
        "- Try n_estimators from 10 to 300.\n",
        "- Why the output might be different everytime your run RandomForestClassifier?\n",
        "- Graph and report/comment your findings"
      ]
    },
    {
      "cell_type": "code",
      "execution_count": 10,
      "metadata": {
        "id": "iaFg7_Mjqhkv",
        "scrolled": true,
        "colab": {
          "base_uri": "https://localhost:8080/",
          "height": 265
        },
        "outputId": "314a7d43-2245-43db-dc19-906157a5d8f3"
      },
      "outputs": [
        {
          "output_type": "display_data",
          "data": {
            "image/png": "[encoded data removed]",
            "text/plain": [
              "<Figure size 432x288 with 1 Axes>"
            ]
          },
          "metadata": {
            "needs_background": "light"
          }
        }
      ],
      "source": [
        "# add your code here, the output should look the graph below (it will be different everytime you run it).\n",
        "plot_rf = []\n",
        "for i in range(1, 301,10):\n",
        "  clf_estimatores = RandomForestClassifier(n_estimators=i)\n",
        "  clf_estimatores.fit(x_train, y_train)\n",
        "  plot_rf.append(clf_estimatores.score(x_test, y_test))\n",
        "#print(plot_rf)\n",
        "plt.plot(np.arange(1, 301, 10, dtype=int), plot_rf)\n",
        "plt.show()\n"
      ]
    },
    {
      "cell_type": "markdown",
      "metadata": {
        "id": "lHGYfQXtqhkw"
      },
      "source": [
        "## Graduate Student's Problem\n",
        "(Or extra credit for undergraduates)"
      ]
    },
    {
      "cell_type": "markdown",
      "metadata": {
        "id": "DteovCVYqhkw"
      },
      "source": [
        "#### Q1) MNIST baseline model\n",
        "- Refer to https://www.tensorflow.org/install to install tensorflow.\n",
        "- Load the mnist dataset from the keras datasets library (or find the dataset online and import it with your method of choice).\n",
        "- Transform the shape of your input data from (len(data), 28, 28) to (len(data), 28 * 28) (This step may already be taken care of)\n",
        "- Create a RandomForestClassifier, train on your training data, and obtain an accuracy score with your test data."
      ]
    },
    {
      "cell_type": "code",
      "execution_count": 11,
      "metadata": {
        "id": "mjxij2Leqhkw"
      },
      "outputs": [],
      "source": [
        "#refer to https://www.tensorflow.org/install to install tensorflow\n",
        "\n",
        "import tensorflow as tf"
      ]
    },
    {
      "cell_type": "code",
      "execution_count": 12,
      "metadata": {
        "colab": {
          "base_uri": "https://localhost:8080/"
        },
        "id": "O7krhPXiqhkw",
        "outputId": "ba7df99b-ddc7-4f70-f927-81f38dbd8cd6"
      },
      "outputs": [
        {
          "output_type": "stream",
          "name": "stdout",
          "text": [
            "Downloading data from https://storage.googleapis.com/tensorflow/tf-keras-datasets/mnist.npz\n",
            "11493376/11490434 [==============================] - 0s 0us/step\n",
            "11501568/11490434 [==============================] - 0s 0us/step\n"
          ]
        }
      ],
      "source": [
        "(x_train, y_train), (x_test, y_test) = tf.keras.datasets.mnist.load_data()\n",
        "\n",
        "x_train = x_train.reshape(x_train.shape[0], x_train.shape[1] ** 2)\n",
        "x_test = x_test.reshape(x_test.shape[0], x_test.shape[1] ** 2)"
      ]
    },
    {
      "cell_type": "code",
      "execution_count": 13,
      "metadata": {
        "id": "BbPRC9Mnqhkw",
        "colab": {
          "base_uri": "https://localhost:8080/"
        },
        "outputId": "0eb13ef9-8eb1-4720-ceb3-b1583d536366"
      },
      "outputs": [
        {
          "output_type": "stream",
          "name": "stdout",
          "text": [
            "0.9708\n"
          ]
        }
      ],
      "source": [
        "# add your code here ...\n",
        "mnist = tf.keras.datasets.mnist\n",
        "(x_train, y_train),(x_test, y_test) = mnist.load_data()\n",
        "x_train = x_train.reshape(len(x_train), 28*28)\n",
        "x_test = x_test.reshape(len(x_test), 28*28)\n",
        "clf_rf2 = RandomForestClassifier().fit(x_train, y_train)\n",
        "print(clf_rf2.score(x_test, y_test))\n"
      ]
    },
    {
      "cell_type": "markdown",
      "metadata": {
        "id": "3Z2Pgh3kqhkx"
      },
      "source": [
        "#### Q2) Create a \"Forest\" of DecisionTreeClassifiers\n",
        "- In this question we want to create Forest of DecisionTreeClassifiers by varying the training dataset for each tree and the features at every split. Remember that we don't want to prune the Decision Tree classifiers.\n",
        "- The default values for the DecisionTreeClassifiers parameters controlling the size of the trees (e.g. min_samples_leaf, etc.) lead to fully grown and unpruned trees.\n",
        "- To memic a random forest classifier, use the Decision trees with max_features set to 'auto', “sqrt” or “log2”. So at every split just few number of features are used for splitting.\n",
        "- Create a list of n DecisionTreeClassifier objects, where n is the same number of trees as your RandomForestClassifier above. store those in forest variable to be used in the next cell. \n",
        "- Loop through your forest and train all of your trees individually."
      ]
    },
    {
      "cell_type": "code",
      "execution_count": 14,
      "metadata": {
        "id": "yItW9aEpqhkx"
      },
      "outputs": [],
      "source": [
        "# add your code here.\n",
        "#forest = # should be a list that include all Decision Tree Classifiers\n",
        "forest = []\n",
        "for n in range(clf_rf2.n_estimators + 1):\n",
        "  forest.append(DecisionTreeClassifier(max_features=\"auto\"))\n",
        "for tree in forest:\n",
        "  tree.fit(x_train, y_train)"
      ]
    },
    {
      "cell_type": "markdown",
      "metadata": {
        "id": "-3l85Ej2qhkx"
      },
      "source": [
        "This is a test function that get predictions from all trees for each data point. Uses ensembles of predictions to create singular predictions for each data point and obtain an accuracy and compare with your baseline model accuracy (should be similar, but not necessarily the same as what you the RandomForest classifier implemented in Part2 - 1."
      ]
    },
    {
      "cell_type": "code",
      "execution_count": 15,
      "metadata": {
        "id": "TOfPgZfbqhky"
      },
      "outputs": [],
      "source": [
        "\n",
        "ensemble_predictions = np.array([tree.predict(x_test) for tree in forest]).T\n",
        "\n",
        "encoded_predictions = np.array([np.bincount(ensemble_predictions[i], minlength=10) for i in range(len(ensemble_predictions))])\n",
        "\n",
        "predictions = [np.argmax(encoded_predictions[i]) for i in range(len(encoded_predictions))]"
      ]
    },
    {
      "cell_type": "code",
      "execution_count": 16,
      "metadata": {
        "id": "P8OqGtCLqhky",
        "colab": {
          "base_uri": "https://localhost:8080/"
        },
        "outputId": "adf50fa1-1c9a-4687-e584-266c232ee749"
      },
      "outputs": [
        {
          "output_type": "stream",
          "name": "stdout",
          "text": [
            "Acc: 0.9721\n"
          ]
        }
      ],
      "source": [
        "print(\"Acc:\", np.sum(predictions == y_test) / len(y_test))"
      ]
    },
    {
      "cell_type": "code",
      "execution_count": 16,
      "metadata": {
        "id": "WahmIZxhqhky"
      },
      "outputs": [],
      "source": [
        ""
      ]
    }
  ],
  "metadata": {
    "colab": {
      "collapsed_sections": [],
      "name": "Lichao_Yang_Assignment_5.ipynb",
      "provenance": [],
      "include_colab_link": true
    },
    "kernelspec": {
      "display_name": "Python 3 (ipykernel)",
      "language": "python",
      "name": "python3"
    },
    "language_info": {
      "codemirror_mode": {
        "name": "ipython",
        "version": 3
      },
      "file_extension": ".py",
      "mimetype": "text/x-python",
      "name": "python",
      "nbconvert_exporter": "python",
      "pygments_lexer": "ipython3",
      "version": "3.9.7"
    }
  },
  "nbformat": 4,
  "nbformat_minor": 0
}
