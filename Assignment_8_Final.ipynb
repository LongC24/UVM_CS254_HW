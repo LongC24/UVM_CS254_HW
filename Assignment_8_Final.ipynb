{
  "cells": [
    {
      "cell_type": "markdown",
      "metadata": {
        "id": "view-in-github",
        "colab_type": "text"
      },
      "source": [
        "<a href=\"https://colab.research.google.com/github/LongC24/UVM_CS254_HW/blob/main/Assignment_8_Final.ipynb\" target=\"_parent\"><img src=\"https://colab.research.google.com/assets/colab-badge.svg\" alt=\"Open In Colab\"/></a>"
      ]
    },
    {
      "cell_type": "markdown",
      "metadata": {
        "id": "om0VH-RkGqhy"
      },
      "source": [
        "### Getting started: Installing Numpy, Keras and TensorFlow"
      ]
    },
    {
      "cell_type": "markdown",
      "metadata": {
        "id": "Q-wfwMuAGqh1"
      },
      "source": [
        "In this assignment you will learn how to use a third party open-source toolkit to create and train a Neural Network. In this assignment you will use Keras. Keras is a high-level Python API that allows you to easily construct, train, and apply neural networks. However, Keras is not a neural network library itself and depends on one of several neural network backends/packages. We will use the Tensorflow backend. TensorFlow is an open-source library for neural networks (and other mathematical models based on sequences of matrix and tensor computations), originally developed by Google. Also, Keras uses numpy data structures. \n",
        "\n",
        "In the recent tensorflow version 2.0, Google merged Keras in tensorflow. So, if you are using tensorflow version 2.0 or higher there might be a slightly change in the syntax for importing the functions or modules. One good resource is to go to the tensorflow documentation and look for the syntax. The link is https://www.tensorflow.org/guide/effective_tf2. \n",
        "\n",
        "Installing Numpy, TensorFlow and Keras: \n",
        "\n",
        "\n",
        "### OR Using Anaconda (Easy and Prefered)\n",
        "\n",
        "- $ conda install tensorflow \n",
        "\n",
        "### OR Using PIP \n",
        "\n",
        "for this, I assume you are very familir with PIP. On most systems, the following commands should work:\n",
        "\n",
        "- $ pip install numpy matplotlib.\n",
        "\n",
        "- $ pip install tensorflow\n",
        "\n",
        "\n",
        "<b> Note:It is highly recommended that you use tensorflow version 2.0 or higher as this assignment will be following 2.0 version. </b> \n",
        "\n",
        "\n",
        "Note that this will likely install the CPU version of TensorFlow that does not use the GPU to speed up neural network training. For this assignment, training on the CPU will be sufficient (and recommended), but if your computer has a GPU (or you want to try running the assignment in the cloud), follow the installation instructions on the tensorflow page. \n",
        "\n",
        "If you get stuck during the installation, you can find installation instructions for each package here: \n",
        "\n",
        "- Tensorflow: https://www.tensorflow.org/install/ \n",
        "- Keras: https://keras.io/#installation \n",
        "\n",
        "<b> Note: You don't need to install keras separately if you are using tensorflow version 2.0 or better as it will be in tensorflow. <b>\n",
        "\n",
        " <span style=\"color:red\"><b>It is highly recommend that </b> you read and run this tutorial before you start this assignment. </b></span>\n",
        "- https://www.tensorflow.org/tutorials/keras/classification\n"
      ]
    },
    {
      "cell_type": "code",
      "execution_count": 1,
      "metadata": {
        "colab": {
          "base_uri": "https://localhost:8080/"
        },
        "id": "NI0AxcRUGqh2",
        "outputId": "ad3a8c74-935d-43ff-8136-a8042738a56d"
      },
      "outputs": [
        {
          "output_type": "stream",
          "name": "stdout",
          "text": [
            "2.8.0\n"
          ]
        }
      ],
      "source": [
        "# import needed libraries\n",
        "from __future__ import absolute_import, division, print_function, unicode_literals\n",
        "# import libraries\n",
        "%matplotlib inline\n",
        "import numpy as np\n",
        "import pandas as pd\n",
        "import matplotlib.pyplot as plt\n",
        "\n",
        "# TensorFlow and tf.keras\n",
        "import tensorflow as tf\n",
        "from tensorflow import keras\n",
        "\n",
        "from tensorflow.keras.utils import to_categorical\n",
        "from tensorflow.keras.datasets import cifar10\n",
        "from tensorflow.keras.models import Sequential \n",
        "from tensorflow.keras.layers import Dense, Flatten\n",
        "from tensorflow.keras import optimizers\n",
        "# Helper libraries\n",
        "\n",
        "print(tf.__version__)"
      ]
    },
    {
      "cell_type": "markdown",
      "metadata": {
        "id": "gxiKq2RSGqh4"
      },
      "source": [
        "Make sure that your tensorflow version is <b>larger</b> than 2.0.0"
      ]
    },
    {
      "cell_type": "markdown",
      "metadata": {
        "id": "4DCqZPKZGqh4"
      },
      "source": [
        "### Introduction\n",
        "In this assignment you will use the Keras Neural Network API to build neural networks for <b>image classification</b>. \n",
        "\n",
        "\n",
        "### Loading CIFAR-10 Dataset\n",
        "\n",
        "We will work on the CIFAR-10 image data set described here: https://www.cs.toronto.edu/~kriz/cifar.html.\n",
        "\n",
        "The data set contains 60,000 images labeled with 10 different categories:\n",
        "\n",
        "Numeric ID\tCategory Name\n",
        "- 0\tairplane\n",
        "- 1\tautomobile\n",
        "- 2\tbird\n",
        "- 3\tcat\n",
        "- 4\tdeer\n",
        "- 5\tdog\n",
        "- 6\tfrog\n",
        "- 7\thorse\n",
        "- 8\tship\n",
        "- 9\ttruck\n",
        "\n",
        "Each image is 32x32 pixels and there are three color channels (red, green blue). Each image can therefore be represented as three 32x32 matrices or one 32x32x3 cube."
      ]
    },
    {
      "cell_type": "code",
      "execution_count": 2,
      "metadata": {
        "id": "xF7OFhPaGqh5",
        "colab": {
          "base_uri": "https://localhost:8080/"
        },
        "outputId": "8a9a4779-817c-482d-f327-bbf56d13f110"
      },
      "outputs": [
        {
          "output_type": "stream",
          "name": "stdout",
          "text": [
            "Downloading data from https://www.cs.toronto.edu/~kriz/cifar-10-python.tar.gz\n",
            "170500096/170498071 [==============================] - 4s 0us/step\n",
            "170508288/170498071 [==============================] - 4s 0us/step\n"
          ]
        }
      ],
      "source": [
        "# load the data\n",
        "(xtrain, ytrain), (xtest, ytest) = cifar10.load_data()"
      ]
    },
    {
      "cell_type": "code",
      "execution_count": 3,
      "metadata": {
        "colab": {
          "base_uri": "https://localhost:8080/"
        },
        "id": "pFOQqqjjGqh6",
        "outputId": "21b8cf08-0c8f-416e-f3aa-170922a8682b"
      },
      "outputs": [
        {
          "output_type": "execute_result",
          "data": {
            "text/plain": [
              "((50000, 32, 32, 3), (10000, 32, 32, 3))"
            ]
          },
          "metadata": {},
          "execution_count": 3
        }
      ],
      "source": [
        "# print data dimensions, note the 3 that indicates three channels (red, green, blue)\n",
        "xtrain.shape, xtest.shape"
      ]
    },
    {
      "cell_type": "markdown",
      "metadata": {
        "id": "2TJ1OjMiGqh6"
      },
      "source": [
        "### Q1  --  [10 pts]\n",
        "Split the training data into training and validation. Resulting in training, testing and validation (40000 for training,10000 for testing and 10000 for validation). Thus you have xtrain, ytrain, xvalid, yvalid, xtest, and ytest as numpy n-dimension arrays contains the training validation and testing data. \n",
        "\n",
        "Hint: \n",
        "- You already have test/train split, you only need to spli training into train and validation.\n",
        "- Use train_test_split sklearn function to split the training data into training and validation.\n",
        "\n",
        "The input training data (xtrain) is a 4-dimensional array containing 40000 images, each of them a 32x32x3 tensor. Numpy arrays can be indexed like nested Python lists, so xtrain[0] will give you the first 32x32x3 image.\n",
        "\n",
        "The input label (ytrain) is a vector containing the numeric class for each image (see table above for what the numeric IDs mean). For example, if xtrain[0] is an image of a frog and therefore ytrain[0] contains the value 6. "
      ]
    },
    {
      "cell_type": "code",
      "execution_count": 4,
      "metadata": {
        "id": "U-9dlx_BGqh7"
      },
      "outputs": [],
      "source": [
        "from sklearn.model_selection import train_test_split\n",
        "\n",
        "# This will normalize your data. For images we only need to normalize the data by dividing it\n",
        "# over 255 thus the pixel normalized intensity range from 0-1.0 \n",
        "xtrain = xtrain/255\n",
        "xtest = xtest/255\n",
        "xtrainForSplit = xtrain\n",
        "ytrainForSplit = ytrain\n",
        "xtrain, xval, ytrain, yval= train_test_split(xtrainForSplit, ytrainForSplit, train_size=0.8, test_size=0.2)  \n"
      ]
    },
    {
      "cell_type": "code",
      "execution_count": 5,
      "metadata": {
        "colab": {
          "base_uri": "https://localhost:8080/"
        },
        "id": "ipnBTDpxGqh7",
        "outputId": "44167f6d-2bec-408c-8941-69a0d4ac2842"
      },
      "outputs": [
        {
          "output_type": "stream",
          "name": "stdout",
          "text": [
            "xtrain.shape is  (40000, 32, 32, 3)\n",
            "xval.shape is  (10000, 32, 32, 3)\n",
            "xtest.shape is  (10000, 32, 32, 3)\n",
            "ytrain.shape is  (40000, 1)\n",
            "yval.shape is  (10000, 1)\n",
            "ytest.shape is  (10000, 1)\n"
          ]
        }
      ],
      "source": [
        "print (\"xtrain.shape is \",xtrain.shape)\n",
        "print (\"xval.shape is \",xval.shape)\n",
        "print (\"xtest.shape is \",xtest.shape)\n",
        "\n",
        "print (\"ytrain.shape is \", ytrain.shape)\n",
        "print (\"yval.shape is \", yval.shape)\n",
        "print (\"ytest.shape is \", ytest.shape)\n",
        "\n",
        "#Answers should be \n",
        "# xtrain.shape is  (40000, 32, 32, 3)\n",
        "# xval.shape is  (10000, 32, 32, 3)\n",
        "# xtest.shape is  (10000, 32, 32, 3)\n",
        "# ytrain.shape is  (40000, 1)\n",
        "# yval.shape is  (10000, 1)\n",
        "# ytest.shape is  (10000, 1)"
      ]
    },
    {
      "cell_type": "markdown",
      "metadata": {
        "id": "lKJD1XMOGqh8"
      },
      "source": [
        "## Visualizing Images\n",
        "If you want to take a look at the individual images, you can do so using matplotlib "
      ]
    },
    {
      "cell_type": "code",
      "execution_count": 6,
      "metadata": {
        "colab": {
          "base_uri": "https://localhost:8080/",
          "height": 1000
        },
        "id": "YgROko7QGqh8",
        "outputId": "311b99eb-6a63-4091-821c-9d43616be223"
      },
      "outputs": [
        {
          "output_type": "display_data",
          "data": {
            "text/plain": [
              "<Figure size 432x288 with 1 Axes>"
            ],
            "image/png": "[encoded data removed]"
          },
          "metadata": {
            "needs_background": "light"
          }
        },
        {
          "output_type": "display_data",
          "data": {
            "text/plain": [
              "<Figure size 432x288 with 1 Axes>"
            ],
            "image/png": "[encoded data removed]"
          },
          "metadata": {
            "needs_background": "light"
          }
        },
        {
          "output_type": "display_data",
          "data": {
            "text/plain": [
              "<Figure size 432x288 with 1 Axes>"
            ],
            "image/png": "[encoded data removed]"
          },
          "metadata": {
            "needs_background": "light"
          }
        },
        {
          "output_type": "display_data",
          "data": {
            "text/plain": [
              "<Figure size 432x288 with 1 Axes>"
            ],
            "image/png": "[encoded data removed]"
          },
          "metadata": {
            "needs_background": "light"
          }
        },
        {
          "output_type": "display_data",
          "data": {
            "text/plain": [
              "<Figure size 432x288 with 1 Axes>"
            ],
            "image/png": "[encoded data removed]"
          },
          "metadata": {
            "needs_background": "light"
          }
        }
      ],
      "source": [
        "for _ in range(5):\n",
        "    plt.imshow(xtrain[np.random.randint(len(xtrain))])\n",
        "    plt.show()"
      ]
    },
    {
      "cell_type": "markdown",
      "metadata": {
        "id": "fBU8SrwvGqh9"
      },
      "source": [
        "### Q2  --  [10 pts]\n",
        "\n",
        "For calssifcaiton, representing the output as 1-hot encoding is the best way to train a fair classifer. The output layer of your neural network will contain 10 neurons corresponding to 10 classes of your dataset. The classifier will then predict the class of the neuron associated with the highest activation. We need to convert the numeric indexes for each image into a 1-hot vector of length 10, so that for class label n the n-th element is 1 and all other elements are 0. For example, if the class label is 6, we should get the 1-hot vector [0 0 0 0 0 1 0 0 0 0].\n",
        "\n",
        "The class labels for the entire training and test set should then be represented as a 40000x10 matrix, and the testing data as a 10000x10 matrix. \n",
        "\n",
        "Write the function mapto1hot(), should map ytrain, yval, ytest to ytrain_1hot, yval_1hot, ytest_1hot. Your function should convert the y arrays into 1-hot representation. You can either do this using loops (slow), using numpy fancy indexing (see numpy documentation), or by using appropriate functions in the numpy or Keras API (to_categorical, https://www.tensorflow.org/api_docs/python/tf/keras/utils/to_categorical). "
      ]
    },
    {
      "cell_type": "code",
      "execution_count": 7,
      "metadata": {
        "id": "pKIG_JWcGqh9"
      },
      "outputs": [],
      "source": [
        "def mapto1hot():\n",
        "\n",
        "# ytrain_1hot = # add your code here to map ytrain to ytrain_1hot\n",
        "# yval_1hot = # add your code here to map yval to yval_1hot\n",
        "# ytest_1hot = # add your code here to map ytest to ytest_1hot\n",
        "    ytrain_1hot = to_categorical(ytrain, 10)\n",
        "    yval_1hot = to_categorical(yval, 10)\n",
        "    ytest_1hot = to_categorical(ytest, 10)\n",
        "    \n",
        "    return ytrain_1hot, yval_1hot, ytest_1hot"
      ]
    },
    {
      "cell_type": "code",
      "execution_count": 8,
      "metadata": {
        "id": "3HuSioQuGqh9"
      },
      "outputs": [],
      "source": [
        "ytrain_1hot, yval_1hot, ytest_1hot = mapto1hot()"
      ]
    },
    {
      "cell_type": "code",
      "execution_count": 9,
      "metadata": {
        "id": "CxqrCFFgGqh-",
        "colab": {
          "base_uri": "https://localhost:8080/"
        },
        "outputId": "09c3fe7d-d79e-47a5-c32a-f1384de7fa2f"
      },
      "outputs": [
        {
          "output_type": "stream",
          "name": "stdout",
          "text": [
            "(40000, 32, 32, 3) (40000, 10)\n",
            "(10000, 32, 32, 3) (10000, 10)\n",
            "(10000, 32, 32, 3) (10000, 10)\n"
          ]
        }
      ],
      "source": [
        "print (xtrain.shape, ytrain_1hot.shape)\n",
        "print (xval.shape, yval_1hot.shape)\n",
        "print (xtest.shape, ytest_1hot.shape)\n",
        "\n",
        "#your answer should be \n",
        "# (40000, 32, 32, 3) (40000, 10)\n",
        "# (10000, 32, 32, 3) (10000, 10)\n",
        "# (10000, 32, 32, 3) (10000, 10)"
      ]
    },
    {
      "cell_type": "markdown",
      "metadata": {
        "id": "Qt1arbH4Gqh-"
      },
      "source": [
        "### Q3  --  [20 pts]\n",
        "\n",
        "In this task, you will implement a MLP network using keras.Sequential method with:\n",
        "\n",
        "- Batch size: 16. \n",
        "- Number of hidden layers: 1 \n",
        "- Neurons in hidden layers: 100\n",
        "- Optimizer: SGD\n",
        "- Learning Rate: 0.01\n",
        "- Epochs: 10\n",
        "- Output activation: softmax\n",
        "- All other activation(s): relu\n",
        "\n",
        "Keep all other hyperparameters at their default settings.\n",
        "\n",
        "Find the performance (accuracy) of your model on the validation set and test set after training for 10 epochs. "
      ]
    },
    {
      "cell_type": "code",
      "execution_count": 10,
      "metadata": {
        "id": "cZjNQ_XbGqh-",
        "colab": {
          "base_uri": "https://localhost:8080/"
        },
        "outputId": "4018225e-24dd-43ce-9f59-817498915845"
      },
      "outputs": [
        {
          "output_type": "stream",
          "name": "stdout",
          "text": [
            "Epoch 1/10\n",
            "2500/2500 [==============================] - 8s 3ms/step - loss: 1.8973 - acc: 0.3191 - val_loss: 1.7641 - val_acc: 0.3586\n",
            "Epoch 2/10\n",
            "2500/2500 [==============================] - 8s 3ms/step - loss: 1.7241 - acc: 0.3862 - val_loss: 1.6773 - val_acc: 0.3955\n",
            "Epoch 3/10\n",
            "2500/2500 [==============================] - 8s 3ms/step - loss: 1.6540 - acc: 0.4135 - val_loss: 1.6255 - val_acc: 0.4239\n",
            "Epoch 4/10\n",
            "2500/2500 [==============================] - 7s 3ms/step - loss: 1.6061 - acc: 0.4353 - val_loss: 1.6161 - val_acc: 0.4227\n",
            "Epoch 5/10\n",
            "2500/2500 [==============================] - 7s 3ms/step - loss: 1.5658 - acc: 0.4473 - val_loss: 1.7248 - val_acc: 0.3836\n",
            "Epoch 6/10\n",
            "2500/2500 [==============================] - 7s 3ms/step - loss: 1.5359 - acc: 0.4591 - val_loss: 1.5472 - val_acc: 0.4564\n",
            "Epoch 7/10\n",
            "2500/2500 [==============================] - 7s 3ms/step - loss: 1.5076 - acc: 0.4717 - val_loss: 1.5674 - val_acc: 0.4517\n",
            "Epoch 8/10\n",
            "2500/2500 [==============================] - 8s 3ms/step - loss: 1.4828 - acc: 0.4787 - val_loss: 1.5756 - val_acc: 0.4465\n",
            "Epoch 9/10\n",
            "2500/2500 [==============================] - 8s 3ms/step - loss: 1.4578 - acc: 0.4878 - val_loss: 1.5182 - val_acc: 0.4639\n",
            "Epoch 10/10\n",
            "2500/2500 [==============================] - 7s 3ms/step - loss: 1.4433 - acc: 0.4924 - val_loss: 1.4825 - val_acc: 0.4835\n"
          ]
        }
      ],
      "source": [
        "layers = [\n",
        "    Flatten(),\n",
        "    #Add your first layer details here, Example Dense(50, activation=\"tanh\"),\n",
        "    #Add your second layer details here \n",
        "    Dense(100, activation='relu'),\n",
        "    Dense(10, activation= 'softmax')\n",
        "]\n",
        "\n",
        "model = Sequential(layers)\n",
        "\n",
        "#refer to https://www.tensorflow.org/tutorials/keras/classification tutorial to check on how to use compile function\n",
        "model.compile(optimizer=optimizers.SGD(learning_rate=0.01), loss=\"categorical_crossentropy\", metrics=['acc'])\n",
        "\n",
        "# This will start the training and save each epoch output in the history list.\n",
        "history = model.fit(xtrain, ytrain_1hot, batch_size=16, epochs=10, validation_data=(xval, yval_1hot))"
      ]
    },
    {
      "cell_type": "markdown",
      "metadata": {
        "id": "d9rXkra2Gqh_"
      },
      "source": [
        "### Q4  --  [25 pts]\n",
        "\n",
        "How many parameters are in the model implemented in Q3, compare your calculations with model.summary() function? Show your calculations in details."
      ]
    },
    {
      "cell_type": "code",
      "execution_count": 11,
      "metadata": {
        "id": "U5X9kdcsGqh_",
        "colab": {
          "base_uri": "https://localhost:8080/"
        },
        "outputId": "cc3ce56e-1331-43ce-823d-b0892cb31d68"
      },
      "outputs": [
        {
          "output_type": "stream",
          "name": "stdout",
          "text": [
            "Model: \"sequential\"\n",
            "_________________________________________________________________\n",
            " Layer (type)                Output Shape              Param #   \n",
            "=================================================================\n",
            " flatten (Flatten)           (16, 3072)                0         \n",
            "                                                                 \n",
            " dense (Dense)               (16, 100)                 307300    \n",
            "                                                                 \n",
            " dense_1 (Dense)             (16, 10)                  1010      \n",
            "                                                                 \n",
            "=================================================================\n",
            "Total params: 308,310\n",
            "Trainable params: 308,310\n",
            "Non-trainable params: 0\n",
            "_________________________________________________________________\n"
          ]
        }
      ],
      "source": [
        "model.summary()"
      ]
    },
    {
      "cell_type": "code",
      "execution_count": 12,
      "metadata": {
        "id": "2Zjao2O0Gqh_"
      },
      "outputs": [],
      "source": [
        "#number of paramters = (3072 + 1) * 100 + (100 + 1) * 10 = 308310"
      ]
    },
    {
      "cell_type": "markdown",
      "metadata": {
        "id": "_qeuLCN7Gqh_"
      },
      "source": [
        "### Q5  --  [15 pts] \n",
        "\n",
        "Use the code below to plot the perfomance at each epoch. At which epoch does your model starts to overfit? Do you think early stopping would be a good solution to avoid overfitting in this case? Give an explaination."
      ]
    },
    {
      "cell_type": "code",
      "execution_count": 13,
      "metadata": {
        "id": "heCeDO2GGqiA",
        "colab": {
          "base_uri": "https://localhost:8080/",
          "height": 268
        },
        "outputId": "73126624-a522-4311-eea1-a308a0773af2"
      },
      "outputs": [
        {
          "output_type": "display_data",
          "data": {
            "text/plain": [
              "<Figure size 432x288 with 1 Axes>"
            ],
            "image/png": "[encoded data removed]"
          },
          "metadata": {
            "needs_background": "light"
          }
        }
      ],
      "source": [
        "plt.plot(history.history['acc'], label=\"train_acc\")\n",
        "plt.plot(history.history['val_acc'], label=\"val_acc\")\n",
        "plt.legend()\n",
        "plt.show()"
      ]
    },
    {
      "cell_type": "code",
      "execution_count": 14,
      "metadata": {
        "id": "UCinr7YFGqiA"
      },
      "outputs": [],
      "source": [
        "#provide your explanation here\n",
        "#After the fifth training round, the model will be overfitted. So reducing the number of training rounds is effective. Overfitting can be reduced by proper positive planning."
      ]
    },
    {
      "cell_type": "markdown",
      "metadata": {
        "nbpresent": {
          "id": "342e80f3-8091-415c-b362-61cd2365ff7d"
        },
        "id": "7B-PRQHqGqiA"
      },
      "source": [
        "### Q6  --  [20 pts] \n",
        "\n",
        "In this question, you will evaluate the performance of your network for 2 varying values of hyperparameters. Keeping the rest of the values constant (and equal to the default values), adjust the values of parameters as described below. Find the performance (accuracy) of your model on the validation set and plot a trend graph for each of the following.\n",
        "\n",
        "Experiment 1:\n",
        "- Batch size: 32\n",
        "- Number of hidden layers: 2\n",
        "- SGD optimizer, Learning Rate: 0.01\n",
        "- Use 10 epochs for all the experiments\n",
        "- final activation: softmax\n",
        "- all other activations: relu\n",
        "\n",
        "\n",
        "\n",
        "Experiment 2:\n",
        "- Batch size: 64\n",
        "- Number of hidden layers: 4\n",
        "- SGD optimizer, Learning Rate: 0.01\n",
        "- Use 10 epochs for all the experiments\n",
        "- final activation: softmax\n",
        "- all other activations: relu\n",
        "\n",
        "<b>Compare the results from both settings and comment with details. Is one of them is better than the other. Write your explanation if it is the case.</b>"
      ]
    },
    {
      "cell_type": "code",
      "execution_count": 15,
      "metadata": {
        "id": "IVxGLo28GqiA",
        "colab": {
          "base_uri": "https://localhost:8080/"
        },
        "outputId": "f1c543c2-3dca-4cb4-d2d2-6dc61292e6d3"
      },
      "outputs": [
        {
          "output_type": "stream",
          "name": "stdout",
          "text": [
            "Epoch 1/10\n",
            "1250/1250 [==============================] - 5s 4ms/step - loss: 1.9445 - acc: 0.2970 - val_loss: 1.8233 - val_acc: 0.3497\n",
            "Epoch 2/10\n",
            "1250/1250 [==============================] - 5s 4ms/step - loss: 1.7616 - acc: 0.3753 - val_loss: 1.7930 - val_acc: 0.3629\n",
            "Epoch 3/10\n",
            "1250/1250 [==============================] - 5s 4ms/step - loss: 1.6803 - acc: 0.4042 - val_loss: 1.6268 - val_acc: 0.4208\n",
            "Epoch 4/10\n",
            "1250/1250 [==============================] - 5s 4ms/step - loss: 1.6237 - acc: 0.4238 - val_loss: 1.6158 - val_acc: 0.4207\n",
            "Epoch 5/10\n",
            "1250/1250 [==============================] - 5s 4ms/step - loss: 1.5825 - acc: 0.4395 - val_loss: 1.6087 - val_acc: 0.4181\n",
            "Epoch 6/10\n",
            "1250/1250 [==============================] - 5s 4ms/step - loss: 1.5472 - acc: 0.4530 - val_loss: 1.5612 - val_acc: 0.4409\n",
            "Epoch 7/10\n",
            "1250/1250 [==============================] - 5s 4ms/step - loss: 1.5168 - acc: 0.4634 - val_loss: 1.5394 - val_acc: 0.4504\n",
            "Epoch 8/10\n",
            "1250/1250 [==============================] - 5s 4ms/step - loss: 1.4907 - acc: 0.4744 - val_loss: 1.5028 - val_acc: 0.4683\n",
            "Epoch 9/10\n",
            "1250/1250 [==============================] - 5s 4ms/step - loss: 1.4682 - acc: 0.4803 - val_loss: 1.5219 - val_acc: 0.4568\n",
            "Epoch 10/10\n",
            "1250/1250 [==============================] - 6s 5ms/step - loss: 1.4464 - acc: 0.4852 - val_loss: 1.5027 - val_acc: 0.4670\n"
          ]
        }
      ],
      "source": [
        "# add the code of experiment model #1 here\n",
        "model = Sequential([\n",
        "    Flatten(),\n",
        "    Dense(100, activation='relu'),\n",
        "    Dense(100, activation='relu'),\n",
        "    Dense(10, activation= 'softmax')\n",
        "    \n",
        "])\n",
        "\n",
        "model.compile(optimizers.SGD(learning_rate=0.01), loss=\"categorical_crossentropy\", metrics=['acc'])\n",
        "history = model.fit(xtrain, ytrain_1hot, batch_size=32, epochs=10 , validation_data=(xval, yval_1hot))"
      ]
    },
    {
      "cell_type": "code",
      "execution_count": 16,
      "metadata": {
        "id": "wQg_wp37GqiB",
        "colab": {
          "base_uri": "https://localhost:8080/",
          "height": 265
        },
        "outputId": "66d80a8a-41ee-4d75-fa33-60830324d719"
      },
      "outputs": [
        {
          "output_type": "display_data",
          "data": {
            "text/plain": [
              "<Figure size 432x288 with 1 Axes>"
            ],
            "image/png": "[encoded data removed]"
          },
          "metadata": {
            "needs_background": "light"
          }
        }
      ],
      "source": [
        "plt.plot(history.history['acc'], label=\"train_acc\")\n",
        "plt.plot(history.history['val_acc'], label=\"val_acc\")\n",
        "plt.legend()\n",
        "plt.show()"
      ]
    },
    {
      "cell_type": "code",
      "execution_count": 17,
      "metadata": {
        "id": "DUeTkDoIGqiB",
        "colab": {
          "base_uri": "https://localhost:8080/"
        },
        "outputId": "e45a2504-47f3-4c2a-f6f0-60066f2c62df"
      },
      "outputs": [
        {
          "output_type": "stream",
          "name": "stdout",
          "text": [
            "313/313 [==============================] - 1s 4ms/step - loss: 1.5108 - acc: 0.4613\n"
          ]
        },
        {
          "output_type": "execute_result",
          "data": {
            "text/plain": [
              "[1.5107780694961548, 0.46129998564720154]"
            ]
          },
          "metadata": {},
          "execution_count": 17
        }
      ],
      "source": [
        "model.evaluate(xtest, ytest_1hot)"
      ]
    },
    {
      "cell_type": "code",
      "execution_count": 18,
      "metadata": {
        "id": "BFaCCpbSGqiB",
        "colab": {
          "base_uri": "https://localhost:8080/"
        },
        "outputId": "1fb1b942-ee59-4019-f70b-0ae751f4a616"
      },
      "outputs": [
        {
          "output_type": "stream",
          "name": "stdout",
          "text": [
            "Epoch 1/10\n",
            "625/625 [==============================] - 8s 11ms/step - loss: 2.0145 - acc: 0.2690 - val_loss: 1.8867 - val_acc: 0.3182\n",
            "Epoch 2/10\n",
            "625/625 [==============================] - 5s 9ms/step - loss: 1.8231 - acc: 0.3468 - val_loss: 1.7494 - val_acc: 0.3665\n",
            "Epoch 3/10\n",
            "625/625 [==============================] - 3s 5ms/step - loss: 1.7432 - acc: 0.3774 - val_loss: 1.6841 - val_acc: 0.4005\n",
            "Epoch 4/10\n",
            "625/625 [==============================] - 3s 5ms/step - loss: 1.6898 - acc: 0.3948 - val_loss: 1.6666 - val_acc: 0.3977\n",
            "Epoch 5/10\n",
            "625/625 [==============================] - 3s 5ms/step - loss: 1.6456 - acc: 0.4128 - val_loss: 1.6052 - val_acc: 0.4273\n",
            "Epoch 6/10\n",
            "625/625 [==============================] - 3s 5ms/step - loss: 1.6098 - acc: 0.4245 - val_loss: 1.6708 - val_acc: 0.3989\n",
            "Epoch 7/10\n",
            "625/625 [==============================] - 3s 5ms/step - loss: 1.5816 - acc: 0.4361 - val_loss: 1.5652 - val_acc: 0.4416\n",
            "Epoch 8/10\n",
            "625/625 [==============================] - 4s 6ms/step - loss: 1.5525 - acc: 0.4442 - val_loss: 1.5682 - val_acc: 0.4379\n",
            "Epoch 9/10\n",
            "625/625 [==============================] - 3s 5ms/step - loss: 1.5264 - acc: 0.4577 - val_loss: 1.5439 - val_acc: 0.4479\n",
            "Epoch 10/10\n",
            "625/625 [==============================] - 3s 5ms/step - loss: 1.5020 - acc: 0.4653 - val_loss: 1.5076 - val_acc: 0.4600\n"
          ]
        }
      ],
      "source": [
        "# add the code of experiment model #2 here\n",
        "model = Sequential([\n",
        "    Flatten(),\n",
        "    Dense(100, activation='relu'),\n",
        "    Dense(100, activation='relu'),\n",
        "    Dense(100, activation='relu'),\n",
        "    Dense(100, activation='relu'),\n",
        "    Dense(10, activation= 'softmax')\n",
        "    \n",
        "])\n",
        "opt = optimizers.SGD(learning_rate=0.01)\n",
        "model.compile(opt, loss=\"categorical_crossentropy\", metrics=['acc'])\n",
        "history = model.fit(xtrain, ytrain_1hot, batch_size=64, epochs=10 , validation_data=(xval, yval_1hot))"
      ]
    },
    {
      "cell_type": "code",
      "execution_count": 19,
      "metadata": {
        "id": "Dz_RxMKZGqiB",
        "colab": {
          "base_uri": "https://localhost:8080/",
          "height": 269
        },
        "outputId": "c37e3b81-8d25-4cb3-b326-7ffc9968248f"
      },
      "outputs": [
        {
          "output_type": "display_data",
          "data": {
            "text/plain": [
              "<Figure size 432x288 with 1 Axes>"
            ],
            "image/png": "[encoded data removed]"
          },
          "metadata": {
            "needs_background": "light"
          }
        }
      ],
      "source": [
        "plt.plot(history.history['acc'], label=\"acc\")\n",
        "plt.plot(history.history['val_acc'], label=\"val_acc\")\n",
        "plt.legend()\n",
        "plt.show()"
      ]
    },
    {
      "cell_type": "code",
      "execution_count": 20,
      "metadata": {
        "id": "sCkRiXYTGqiB",
        "colab": {
          "base_uri": "https://localhost:8080/"
        },
        "outputId": "cf827cba-1748-45a7-e621-2429c8183a6f"
      },
      "outputs": [
        {
          "output_type": "stream",
          "name": "stdout",
          "text": [
            "313/313 [==============================] - 1s 2ms/step - loss: 1.4933 - acc: 0.4675\n"
          ]
        },
        {
          "output_type": "execute_result",
          "data": {
            "text/plain": [
              "[1.4932507276535034, 0.4675000011920929]"
            ]
          },
          "metadata": {},
          "execution_count": 20
        }
      ],
      "source": [
        "model.evaluate(xtest, ytest_1hot)"
      ]
    },
    {
      "cell_type": "markdown",
      "metadata": {
        "id": "o4RyLrRPGqiB"
      },
      "source": [
        "Add your comments here"
      ]
    },
    {
      "cell_type": "code",
      "execution_count": 20,
      "metadata": {
        "id": "1XlWMTt6GqiC"
      },
      "outputs": [],
      "source": [
        "#The second approach seems to be better than the first one with significantly lower overfitting probability, but the accuracy of the model converges faster."
      ]
    }
  ],
  "metadata": {
    "kernelspec": {
      "display_name": "Python 3 (ipykernel)",
      "language": "python",
      "name": "python3"
    },
    "language_info": {
      "codemirror_mode": {
        "name": "ipython",
        "version": 3
      },
      "file_extension": ".py",
      "mimetype": "text/x-python",
      "name": "python",
      "nbconvert_exporter": "python",
      "pygments_lexer": "ipython3",
      "version": "3.9.7"
    },
    "colab": {
      "name": "Lichao_Yang_Assignment_8_Final.ipynb",
      "provenance": [],
      "collapsed_sections": [],
      "include_colab_link": true
    }
  },
  "nbformat": 4,
  "nbformat_minor": 0
}